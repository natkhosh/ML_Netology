{
 "cells": [
  {
   "cell_type": "code",
   "execution_count": 10,
   "metadata": {
    "ExecuteTime": {
     "end_time": "2020-07-02T16:43:40.144255Z",
     "start_time": "2020-07-02T16:43:39.487117Z"
    },
    "id": "June5bnaIMo_"
   },
   "outputs": [],
   "source": [
    "import numpy as np\n",
    "import pandas as pd\n",
    "import matplotlib.pyplot as plt\n",
    "import math\n",
    "\n",
    "from sklearn.metrics import accuracy_score\n",
    "from sklearn.datasets import load_iris\n",
    "\n",
    "import seaborn as sns"
   ]
  },
  {
   "cell_type": "code",
   "execution_count": 186,
   "metadata": {},
   "outputs": [],
   "source": [
    "from sklearn.metrics import roc_auc_score\n",
    "from sklearn.metrics import average_precision_score\n",
    "from sklearn.metrics import mean_squared_error, r2_score # подгружаем метрику mse и r2\n",
    "from sklearn.metrics import precision_score, recall_score"
   ]
  },
  {
   "cell_type": "markdown",
   "metadata": {},
   "source": [
    "<p style=\"align: center;\"><img align=center src=\"https://netology.ru/backend/tilda/images/tild3439-3364-4535-b334-656263633534__main.svg\"  width=900></p>\n",
    "<h3 style=\"text-align: center;\"><b>Функции потери и оптимизация</b></h3>"
   ]
  },
  {
   "cell_type": "markdown",
   "metadata": {},
   "source": [
    "#  Домашнее задание"
   ]
  },
  {
   "cell_type": "markdown",
   "metadata": {},
   "source": [
    "### Задание  \n",
    "    \n",
    "В домашнем задании необходимо применить полученные знания в теории оптимизации и машинном обучении для реализации логистической регрессии.\n",
    "\n",
    "\n",
    "1. Загрузите данные. Используйте датасет с ирисами. Его можно загрузить непосредственно из библиотеки Sklearn. В данных оставьте только 2 класса: Iris Versicolor, Iris Virginica.\n",
    "2. Самостоятельно реализуйте логистическую регрессию, без использования метода LogisticRegression из библиотеки. Можете использовать библиотеки pandas, numpy, math для реализации. Оформите в виде функции. *Оформите в виде класса с методами.\n",
    "3. Реализуйте метод градиентного спуска. Обучите логистическую регрессию этим методом. Выберете и посчитайте метрику качества. Метрика должна быть одинакова для всех пунктов домашнего задания. Для упрощения сравнения выберете только одну метрику.\n",
    "4. Повторите п. 3 для метода скользящего среднего (Root Mean Square Propagation, RMSProp).\n",
    "5. Повторите п. 3 для ускоренного по Нестерову метода адаптивной оценки моментов (Nesterov–accelerated Adaptive Moment Estimation, Nadam).\n",
    "6. Сравните значение метрик для реализованных методов оптимизации. Можно оформить в виде таблицы вида |метод|метрика|время работы| (время работы опционально). Напишите вывод."
   ]
  },
  {
   "cell_type": "code",
   "execution_count": 95,
   "metadata": {},
   "outputs": [
    {
     "data": {
      "text/plain": [
       "array([0, 0, 0, 0, 0, 0, 0, 0, 0, 0, 0, 0, 0, 0, 0, 0, 0, 0, 0, 0, 0, 0,\n",
       "       0, 0, 0, 0, 0, 0, 0, 0, 0, 0, 0, 0, 0, 0, 0, 0, 0, 0, 0, 0, 0, 0,\n",
       "       0, 0, 0, 0, 0, 0, 1, 1, 1, 1, 1, 1, 1, 1, 1, 1, 1, 1, 1, 1, 1, 1,\n",
       "       1, 1, 1, 1, 1, 1, 1, 1, 1, 1, 1, 1, 1, 1, 1, 1, 1, 1, 1, 1, 1, 1,\n",
       "       1, 1, 1, 1, 1, 1, 1, 1, 1, 1, 1, 1, 2, 2, 2, 2, 2, 2, 2, 2, 2, 2,\n",
       "       2, 2, 2, 2, 2, 2, 2, 2, 2, 2, 2, 2, 2, 2, 2, 2, 2, 2, 2, 2, 2, 2,\n",
       "       2, 2, 2, 2, 2, 2, 2, 2, 2, 2, 2, 2, 2, 2, 2, 2, 2, 2])"
      ]
     },
     "execution_count": 95,
     "metadata": {},
     "output_type": "execute_result"
    }
   ],
   "source": [
    "iris = load_iris()\n",
    "X = iris.data  # we only take the first two features.\n",
    "y = iris.target\n",
    "y"
   ]
  },
  {
   "cell_type": "markdown",
   "metadata": {},
   "source": [
    "##### Классы\n",
    "\n",
    "    \"0\": setosa\n",
    "    \"1\": versicolor\n",
    "    \"2\": virginica\n",
    "    \n",
    "Оставляем только 2 класса: Iris Versicolor \"1\", Iris Virginica \"2\"."
   ]
  },
  {
   "cell_type": "code",
   "execution_count": 96,
   "metadata": {},
   "outputs": [
    {
     "name": "stdout",
     "output_type": "stream",
     "text": [
      "(100, 4) (100,)\n"
     ]
    },
    {
     "data": {
      "text/plain": [
       "array([1, 1, 1, 1, 1, 1, 1, 1, 1, 1, 1, 1, 1, 1, 1, 1, 1, 1, 1, 1, 1, 1,\n",
       "       1, 1, 1, 1, 1, 1, 1, 1, 1, 1, 1, 1, 1, 1, 1, 1, 1, 1, 1, 1, 1, 1,\n",
       "       1, 1, 1, 1, 1, 1, 2, 2, 2, 2, 2, 2, 2, 2, 2, 2, 2, 2, 2, 2, 2, 2,\n",
       "       2, 2, 2, 2, 2, 2, 2, 2, 2, 2, 2, 2, 2, 2, 2, 2, 2, 2, 2, 2, 2, 2,\n",
       "       2, 2, 2, 2, 2, 2, 2, 2, 2, 2, 2, 2])"
      ]
     },
     "execution_count": 96,
     "metadata": {},
     "output_type": "execute_result"
    }
   ],
   "source": [
    "filter = y != 0\n",
    "\n",
    "X = X[filter]\n",
    "y = y[filter]\n",
    "\n",
    "print(X.shape, y.shape)\n",
    "y"
   ]
  },
  {
   "cell_type": "code",
   "execution_count": 97,
   "metadata": {},
   "outputs": [
    {
     "data": {
      "text/plain": [
       "array([0, 0, 0, 0, 0, 0, 0, 0, 0, 0, 0, 0, 0, 0, 0, 0, 0, 0, 0, 0, 0, 0,\n",
       "       0, 0, 0, 0, 0, 0, 0, 0, 0, 0, 0, 0, 0, 0, 0, 0, 0, 0, 0, 0, 0, 0,\n",
       "       0, 0, 0, 0, 0, 0, 1, 1, 1, 1, 1, 1, 1, 1, 1, 1, 1, 1, 1, 1, 1, 1,\n",
       "       1, 1, 1, 1, 1, 1, 1, 1, 1, 1, 1, 1, 1, 1, 1, 1, 1, 1, 1, 1, 1, 1,\n",
       "       1, 1, 1, 1, 1, 1, 1, 1, 1, 1, 1, 1])"
      ]
     },
     "execution_count": 97,
     "metadata": {},
     "output_type": "execute_result"
    }
   ],
   "source": [
    "# Заменим в target 'versicolor' = 0, 'virginica' = 1\n",
    "y = np.where(y==1, 0,1)\n",
    "\n",
    "y"
   ]
  },
  {
   "cell_type": "code",
   "execution_count": 98,
   "metadata": {},
   "outputs": [
    {
     "data": {
      "text/plain": [
       "dtype('float64')"
      ]
     },
     "execution_count": 98,
     "metadata": {},
     "output_type": "execute_result"
    }
   ],
   "source": [
    "X.dtype"
   ]
  },
  {
   "attachments": {
    "image-3.png": {
     "image/png": "[encoded data removed]"
    }
   },
   "cell_type": "markdown",
   "metadata": {},
   "source": [
    "### Логистическая регрессия\n",
    "![image-3.png](attachment:image-3.png)"
   ]
  },
  {
   "cell_type": "markdown",
   "metadata": {
    "id": "cj-1SJwdIMpH"
   },
   "source": [
    "#### Метод стохастического градиентного спуска"
   ]
  },
  {
   "cell_type": "code",
   "execution_count": 99,
   "metadata": {},
   "outputs": [],
   "source": [
    "def sigmoid(x, params):  \n",
    "    \n",
    "    return 1 / (1 + np.exp(-(params[0] + \n",
    "                                        params[1] * x[0] + \n",
    "                                        params[2] * x[1] + \n",
    "                                        params[3] * x[2] + \n",
    "                                        params[4] * x[3])))"
   ]
  },
  {
   "cell_type": "code",
   "execution_count": 182,
   "metadata": {},
   "outputs": [],
   "source": [
    "def predict_class(predictions):\n",
    "    return list(map(lambda x: 1 if x >0.6 else 0, predictions))"
   ]
  },
  {
   "cell_type": "code",
   "execution_count": 204,
   "metadata": {},
   "outputs": [],
   "source": [
    "def learn_sgd(X, y, num_epochs=6000, learning_rate=0.0001):\n",
    "    np.random.seed(43)\n",
    "    costs = []\n",
    "    params = []\n",
    "    params = np.random.normal(size=(5,))\n",
    "    print(f'Params:     {params}')\n",
    "    for _ in range(num_epochs):\n",
    "        predictions = []\n",
    "        for j, v in enumerate(X):\n",
    "\n",
    "            predict = sigmoid(v, params)\n",
    "            predictions.append(predict)\n",
    "\n",
    "        cost = np.sum(np.square(predictions - y)) / (2 * len(predictions))\n",
    "        costs.append(cost)\n",
    "\n",
    "        i = np.random.choice(len(X))\n",
    "        current_prediction = sigmoid(X[i], params)\n",
    "\n",
    "        params[0] -= learning_rate * (current_prediction - y[i]) \n",
    "        params[1] -= learning_rate * ((current_prediction - y[i]) * X[i][0])\n",
    "        params[2] -= learning_rate * ((current_prediction - y[i]) * X[i][1])\n",
    "        params[3] -= learning_rate * ((current_prediction - y[i]) * X[i][2])\n",
    "        params[4] -= learning_rate * ((current_prediction - y[i]) * X[i][3])\n",
    "        \n",
    "    class_predictions = predict_class(predictions)\n",
    "    return costs, params, class_predictions"
   ]
  },
  {
   "cell_type": "code",
   "execution_count": 205,
   "metadata": {},
   "outputs": [
    {
     "name": "stdout",
     "output_type": "stream",
     "text": [
      "Params:     [ 0.25739993 -0.90848143 -0.37850311 -0.5349156   0.85807335]\n",
      "New params: [ 0.34098149 -0.29179776 -0.11130552  0.04991358  1.08849094]\n"
     ]
    }
   ],
   "source": [
    "costs, new_params, preds = learn_sgd(X, y)\n",
    "print(f'New params: {new_params}')"
   ]
  },
  {
   "cell_type": "code",
   "execution_count": 203,
   "metadata": {
    "scrolled": false
   },
   "outputs": [
    {
     "data": {
      "image/png": "[encoded data removed]",
      "text/plain": [
       "<Figure size 720x576 with 1 Axes>"
      ]
     },
     "metadata": {
      "needs_background": "light"
     },
     "output_type": "display_data"
    }
   ],
   "source": [
    "plt.figure(figsize=(10,8))\n",
    "plt.plot(costs)\n",
    "plt.show()"
   ]
  },
  {
   "cell_type": "markdown",
   "metadata": {},
   "source": [
    "#### Оценки качества классификации"
   ]
  },
  {
   "cell_type": "code",
   "execution_count": 187,
   "metadata": {},
   "outputs": [
    {
     "data": {
      "text/plain": [
       "0.84"
      ]
     },
     "execution_count": 187,
     "metadata": {},
     "output_type": "execute_result"
    }
   ],
   "source": [
    "# Точность\n",
    "accuracy_score(y, preds)"
   ]
  },
  {
   "cell_type": "code",
   "execution_count": 188,
   "metadata": {},
   "outputs": [
    {
     "data": {
      "text/plain": [
       "0.84"
      ]
     },
     "execution_count": 188,
     "metadata": {},
     "output_type": "execute_result"
    }
   ],
   "source": [
    "# Площадь под ROC-кривой\n",
    "roc_auc_score(y, preds)"
   ]
  },
  {
   "cell_type": "markdown",
   "metadata": {},
   "source": [
    "#### метод скользящего среднего (Root Mean Square Propagation, RMSProp)"
   ]
  },
  {
   "cell_type": "code",
   "execution_count": 260,
   "metadata": {},
   "outputs": [],
   "source": [
    "def learn_rmsprop(X, y, num_epochs=500, learning_rate=0.01):    \n",
    "    num_epochs = 500\n",
    "    learning_rate = 0.01\n",
    "    momentum = 0.9\n",
    "    epsilon = 10e-6\n",
    "\n",
    "    costs = []\n",
    "    params = []\n",
    "    \n",
    "\n",
    "    params = np.random.normal(size=(5,))\n",
    "    E = np.random.normal(size=(5,))\n",
    "\n",
    "    for _ in range(num_epochs):\n",
    "        predictions = []\n",
    "        for j, v in enumerate(X):\n",
    "\n",
    "            predict = sigmoid(v, params)\n",
    "            predictions.append(predict)\n",
    "     \n",
    "        E[0] = momentum * np.mean(np.square(np.sum((predictions - y) * X[:,0]) / len(predictions))) + (1 - momentum) * (np.square(np.sum((predictions - y) * X[:,0]) / len(predictions)))\n",
    "        E[1] = momentum * np.mean(np.square(np.sum((predictions - y) * X[:,1]) / len(predictions))) + (1 - momentum) * (np.square(np.sum((predictions - y) * X[:,1]) / len(predictions)))\n",
    "        E[2] = momentum * np.mean(np.square(np.sum((predictions - y) * X[:,2]) / len(predictions))) + (1 - momentum) * (np.square(np.sum((predictions - y) * X[:,2]) / len(predictions)))\n",
    "        E[3] = momentum * np.mean(np.square(np.sum((predictions - y) * X[:,3]) / len(predictions))) + (1 - momentum) * (np.square(np.sum((predictions - y) * X[:,3]) / len(predictions)))\n",
    "\n",
    "        params[0] -= learning_rate * (np.sum(predictions - y) / len(predictions))\n",
    "        params[1] -= learning_rate * (np.sum((predictions - y) * X[:,0]) / len(predictions)) / np.sqrt(E[0] + epsilon) \n",
    "        params[2] -= learning_rate * (np.sum((predictions - y) * X[:,1]) / len(predictions)) / np.sqrt(E[1] + epsilon) \n",
    "        params[3] -= learning_rate * (np.sum((predictions - y) * X[:,2]) / len(predictions)) / np.sqrt(E[2] + epsilon) \n",
    "        params[4] -= learning_rate * (np.sum((predictions - y) * X[:,3]) / len(predictions)) / np.sqrt(E[3] + epsilon)\n",
    "            \n",
    "        cost = np.sum(np.square(predictions - y)) / (2 * len(predictions))\n",
    "        costs.append(cost)\n",
    "        \n",
    "    class_predictions = predict_class(predictions)\n",
    "    return costs, params, class_predictions"
   ]
  },
  {
   "cell_type": "code",
   "execution_count": 269,
   "metadata": {},
   "outputs": [
    {
     "name": "stdout",
     "output_type": "stream",
     "text": [
      "New params: [-1.22899231 -1.55003383 -2.53390703  2.61759748  3.247819  ]\n"
     ]
    }
   ],
   "source": [
    "costs_1, params_1, preds_1 = learn_rmsprop(X, y)\n",
    "print(f'New params: {params_1}')"
   ]
  },
  {
   "cell_type": "code",
   "execution_count": 270,
   "metadata": {},
   "outputs": [
    {
     "data": {
      "image/png": "[encoded data removed]",
      "text/plain": [
       "<Figure size 720x576 with 1 Axes>"
      ]
     },
     "metadata": {
      "needs_background": "light"
     },
     "output_type": "display_data"
    }
   ],
   "source": [
    "plt.figure(figsize=(10,8))\n",
    "plt.plot(costs_1)\n",
    "plt.show()"
   ]
  },
  {
   "cell_type": "markdown",
   "metadata": {},
   "source": [
    "#### Оценки качества классификации RMSprop"
   ]
  },
  {
   "cell_type": "code",
   "execution_count": 271,
   "metadata": {},
   "outputs": [
    {
     "data": {
      "text/plain": [
       "0.96"
      ]
     },
     "execution_count": 271,
     "metadata": {},
     "output_type": "execute_result"
    }
   ],
   "source": [
    "# Точность\n",
    "accuracy_score(y, preds_1)"
   ]
  },
  {
   "cell_type": "code",
   "execution_count": 272,
   "metadata": {},
   "outputs": [
    {
     "data": {
      "text/plain": [
       "0.96"
      ]
     },
     "execution_count": 272,
     "metadata": {},
     "output_type": "execute_result"
    }
   ],
   "source": [
    "# Площадь под ROC-кривой\n",
    "roc_auc_score(y, preds_1)"
   ]
  },
  {
   "cell_type": "code",
   "execution_count": null,
   "metadata": {},
   "outputs": [],
   "source": []
  },
  {
   "cell_type": "markdown",
   "metadata": {},
   "source": [
    "Повторите п. 3 для ускоренного по Нестерову метода адаптивной оценки моментов (Nesterov–accelerated Adaptive Moment Estimation, Nadam)."
   ]
  },
  {
   "cell_type": "markdown",
   "metadata": {},
   "source": [
    "### Выводы:\n",
    "       \n",
    "Наилучший результат оптимизации показал метод RMSprop, что доказывают метрики качества модели. Так же хорошего результата получилось добиться за гораздо меньше итераций.\n",
    "\n",
    "\n",
    "\n",
    "P.S.  Оптимизацию методом Nadam, не реализовала ввиду сложности метода"
   ]
  },
  {
   "cell_type": "code",
   "execution_count": null,
   "metadata": {},
   "outputs": [],
   "source": []
  }
 ],
 "metadata": {
  "colab": {
   "name": "Лекция 3.ipynb",
   "provenance": []
  },
  "kernelspec": {
   "display_name": "Python 3",
   "language": "python",
   "name": "python3"
  },
  "language_info": {
   "codemirror_mode": {
    "name": "ipython",
    "version": 3
   },
   "file_extension": ".py",
   "mimetype": "text/x-python",
   "name": "python",
   "nbconvert_exporter": "python",
   "pygments_lexer": "ipython3",
   "version": "3.7.8"
  },
  "varInspector": {
   "cols": {
    "lenName": 16,
    "lenType": 16,
    "lenVar": 40
   },
   "kernels_config": {
    "python": {
     "delete_cmd_postfix": "",
     "delete_cmd_prefix": "del ",
     "library": "var_list.py",
     "varRefreshCmd": "print(var_dic_list())"
    },
    "r": {
     "delete_cmd_postfix": ") ",
     "delete_cmd_prefix": "rm(",
     "library": "var_list.r",
     "varRefreshCmd": "cat(var_dic_list()) "
    }
   },
   "types_to_exclude": [
    "module",
    "function",
    "builtin_function_or_method",
    "instance",
    "_Feature"
   ],
   "window_display": false
  }
 },
 "nbformat": 4,
 "nbformat_minor": 1
}
